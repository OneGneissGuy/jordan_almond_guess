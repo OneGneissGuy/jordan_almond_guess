{
 "cells": [
  {
   "cell_type": "markdown",
   "metadata": {},
   "source": [
    "## Jordan almond guessing contest\n",
    "### Experimental Design\n",
    "* A jar was filled with a known number of almonds and sealed.\n",
    "* The jar was placed in the coffee nook in the DES office for approximately one week.\n",
    "* A note was placed with the jar asking people to guess how many almonds were in the jar and to send me their guess.\n",
    "\n",
    "The law of large numbers (LLN) is an important underpinning of modern statistics. In general, the LLN states that given enough identical and independent measurements, the average measurement will tend towards the true value. One way to think about the LLN in practice is to consider the concept of the \"wisdom of the crowd\", which stipulates that a group of people will collectively come up with a better estimate of a quantity than a single person.  \n",
    "\n",
    "#### We can test that idea by answering the question: Will a crowd estimate the number of almonds in the jar better than any single person as the law of large numbers suggests?\n",
    "\n",
    "We can perform this analysis and try to answer this question in pretty much any statistical package. Below is an example of one route using the python programming language."
   ]
  },
  {
   "cell_type": "code",
   "execution_count": 22,
   "metadata": {},
   "outputs": [],
   "source": [
    "%matplotlib inline\n",
    "import altair as alt\n",
    "import matplotlib.pyplot as plt\n",
    "import numpy as np\n",
    "import pandas as pd\n",
    "import pylab\n",
    "from scipy.stats import shapiro, anderson, ttest_1samp, probplot, t\n",
    "pd.set_option('precision', 0)"
   ]
  },
  {
   "cell_type": "markdown",
   "metadata": {},
   "source": [
    "#### Load in all of the the guesses into a pandas dataframe for analysis."
   ]
  },
  {
   "cell_type": "code",
   "execution_count": 35,
   "metadata": {},
   "outputs": [
    {
     "data": {
      "text/html": [
       "<div>\n",
       "<style scoped>\n",
       "    .dataframe tbody tr th:only-of-type {\n",
       "        vertical-align: middle;\n",
       "    }\n",
       "\n",
       "    .dataframe tbody tr th {\n",
       "        vertical-align: top;\n",
       "    }\n",
       "\n",
       "    .dataframe thead th {\n",
       "        text-align: right;\n",
       "    }\n",
       "</style>\n",
       "<table border=\"1\" class=\"dataframe\">\n",
       "  <thead>\n",
       "    <tr style=\"text-align: right;\">\n",
       "      <th></th>\n",
       "      <th>Count</th>\n",
       "      <th>Running average</th>\n",
       "      <th>Actual value</th>\n",
       "    </tr>\n",
       "    <tr>\n",
       "      <th>Guess</th>\n",
       "      <th></th>\n",
       "      <th></th>\n",
       "      <th></th>\n",
       "    </tr>\n",
       "  </thead>\n",
       "  <tbody>\n",
       "    <tr>\n",
       "      <th>1</th>\n",
       "      <td>217</td>\n",
       "      <td>217</td>\n",
       "      <td>212</td>\n",
       "    </tr>\n",
       "    <tr>\n",
       "      <th>2</th>\n",
       "      <td>165</td>\n",
       "      <td>191</td>\n",
       "      <td>212</td>\n",
       "    </tr>\n",
       "    <tr>\n",
       "      <th>3</th>\n",
       "      <td>222</td>\n",
       "      <td>201</td>\n",
       "      <td>212</td>\n",
       "    </tr>\n",
       "    <tr>\n",
       "      <th>4</th>\n",
       "      <td>320</td>\n",
       "      <td>231</td>\n",
       "      <td>212</td>\n",
       "    </tr>\n",
       "    <tr>\n",
       "      <th>5</th>\n",
       "      <td>250</td>\n",
       "      <td>235</td>\n",
       "      <td>212</td>\n",
       "    </tr>\n",
       "  </tbody>\n",
       "</table>\n",
       "</div>"
      ],
      "text/plain": [
       "       Count  Running average  Actual value\n",
       "Guess                                      \n",
       "1        217              217           212\n",
       "2        165              191           212\n",
       "3        222              201           212\n",
       "4        320              231           212\n",
       "5        250              235           212"
      ]
     },
     "execution_count": 35,
     "metadata": {},
     "output_type": "execute_result"
    }
   ],
   "source": [
    "filename = 'https://raw.githubusercontent.com/OneGneissGuy/jordan_almond_guess/master/jordan_almonds_count.txt'\n",
    "data = pd.read_csv(filename, delimiter='\\t', index_col=[0])\n",
    "# inspect dataframe\n",
    "data.head()"
   ]
  },
  {
   "cell_type": "markdown",
   "metadata": {},
   "source": [
    "#### View the raw guesses and the running average of the counts.\n"
   ]
  },
  {
   "cell_type": "code",
   "execution_count": 66,
   "metadata": {},
   "outputs": [
    {
     "data": {
      "image/png": "[encoded data removed]",
      "text/plain": [
       "<matplotlib.figure.Figure at 0x1e64db267b8>"
      ]
     },
     "metadata": {},
     "output_type": "display_data"
    }
   ],
   "source": [
    "l = data['Count'].plot(marker='s',legend=True)\n",
    "l = data['Running average'].plot(marker='o',legend=True)\n",
    "l = data['Actual value'].plot(marker='None',legend=True)"
   ]
  },
  {
   "cell_type": "markdown",
   "metadata": {},
   "source": [
    "#### Summarize the raw data and identify outliers."
   ]
  },
  {
   "cell_type": "code",
   "execution_count": 4,
   "metadata": {},
   "outputs": [
    {
     "name": "stdout",
     "output_type": "stream",
     "text": [
      "range \t 457.0\n",
      "IQR \t 53.5\n",
      "Extreme interval  45.0 - 419.5\n",
      "Outlier interval  125.25 - 339.25\n",
      "count     26\n",
      "mean     240\n",
      "std       88\n",
      "min       98\n",
      "25%      206\n",
      "50%      239\n",
      "75%      259\n",
      "max      555\n",
      "Name: Count, dtype: float64\n"
     ]
    }
   ],
   "source": [
    "summary_stats = data['Count'].describe()\n",
    "data_range = summary_stats['max'] -  summary_stats['min']\n",
    "IQR = summary_stats['75%']- summary_stats['25%']\n",
    "print(\"range \\t\", data_range)\n",
    "print(\"IQR \\t\", IQR)\n",
    "print(\"Extreme interval \", summary_stats['25%']-IQR*3, \"-\", IQR*3+summary_stats['75%'],)\n",
    "print(\"Outlier interval \", summary_stats['25%']-IQR*1.5, \"-\", IQR*1.5+summary_stats['75%'],)\n",
    "print(summary_stats)"
   ]
  },
  {
   "cell_type": "code",
   "execution_count": 62,
   "metadata": {},
   "outputs": [
    {
     "data": {
      "image/png": "[encoded data removed]",
      "text/plain": [
       "<matplotlib.figure.Figure at 0x1e64dd8b160>"
      ]
     },
     "metadata": {},
     "output_type": "display_data"
    }
   ],
   "source": [
    "l = data['Count'].plot(kind='hist', bins=7)"
   ]
  },
  {
   "cell_type": "markdown",
   "metadata": {},
   "source": [
    "Clearly the data is positively skewed (towards the highest guess of 555). Filter out the most extreme value which is easily identified by both *parametric* (+/- 3 x standard deviation) and *non-parametric* methods (>3 * Inter-quartile range +/- 25/75th) and visualize the data again."
   ]
  },
  {
   "cell_type": "code",
   "execution_count": 63,
   "metadata": {},
   "outputs": [
    {
     "name": "stdout",
     "output_type": "stream",
     "text": [
      "Number of samples = 25\n"
     ]
    },
    {
     "data": {
      "text/plain": [
       "count     25\n",
       "mean     228\n",
       "std       61\n",
       "min       98\n",
       "25%      203\n",
       "50%      238\n",
       "75%      256\n",
       "max      351\n",
       "Name: Count, dtype: float64"
      ]
     },
     "execution_count": 63,
     "metadata": {},
     "output_type": "execute_result"
    }
   ],
   "source": [
    "filtered_data = data['Count'][data['Count']<data['Count'].max()]\n",
    "print(\"Number of samples =\", len(filtered_data))\n",
    "# Describe the filtered dataset \n",
    "filtered_data.describe()"
   ]
  },
  {
   "cell_type": "code",
   "execution_count": 61,
   "metadata": {},
   "outputs": [
    {
     "name": "stdout",
     "output_type": "stream",
     "text": [
      "Crowd mean difference = 15.88\n"
     ]
    },
    {
     "data": {
      "image/png": "[encoded data removed]",
      "text/plain": [
       "<matplotlib.figure.Figure at 0x1e64de12358>"
      ]
     },
     "metadata": {},
     "output_type": "display_data"
    }
   ],
   "source": [
    "# Visualize the filtered data set\n",
    "x_f = filtered_data.values\n",
    "f, ax = plt.subplots(2, 1, sharey=False, sharex=True)\n",
    "ax[0].hist(filtered_data.values, bins=7)\n",
    "# generate hist and box plots to graphically inspect the samples distribution for normality\n",
    "df = pd.DataFrame(data=x_f, columns=[\"\"])\n",
    "df.boxplot(vert=False, ax=ax[1])\n",
    "ylab = ax[0].set_ylabel('Frequency')\n",
    "xlab = ax[1].set_xlabel('Guess')\n",
    "print(\"Crowd mean difference =\", np.mean(filtered_data-212))"
   ]
  },
  {
   "cell_type": "code",
   "execution_count": 17,
   "metadata": {},
   "outputs": [
    {
     "data": {
      "image/png": "[encoded data removed]",
      "text/plain": [
       "<matplotlib.figure.Figure at 0x1e64d3914a8>"
      ]
     },
     "metadata": {},
     "output_type": "display_data"
    }
   ],
   "source": [
    "qq = probplot(x_f, dist=\"norm\", plot=pylab)"
   ]
  },
  {
   "cell_type": "markdown",
   "metadata": {},
   "source": [
    "With the exclusion of the extremely high guess, the average has moved towards the actual value, as one would expect. Visually the distribution is more mound-shaped and symmetrical about the mean and the q-q probability plot shows the data falls along the line, indicating normality of the dataset, even with two outliers remaining. So, vsually, the data appears as if it could have been sampled from a normal population, but is it? Let's run some tests for normality and find out!"
   ]
  },
  {
   "cell_type": "markdown",
   "metadata": {},
   "source": [
    "\n",
    "### Testing for normality\n",
    "\n",
    "* Perform the Shapiro-Wilk test for normality, which tests the null hypothesis that the sample (groups guesses) came from a normal distribution. This tests is especially appropriate for small sample sizes, as we have here. Assume significance level of `0.05` or `95%`, unless otherwise noted."
   ]
  },
  {
   "cell_type": "code",
   "execution_count": 18,
   "metadata": {},
   "outputs": [
    {
     "name": "stdout",
     "output_type": "stream",
     "text": [
      "Shapiro Wilks test p-value = 0.5569809079170227\n"
     ]
    }
   ],
   "source": [
    "print(\"Shapiro Wilks test p-value =\", shapiro(x_f)[1])"
   ]
  },
  {
   "cell_type": "markdown",
   "metadata": {},
   "source": [
    "Because the *p*-value > `0.05`, we fail to reject the null hypothesis that the sample distribution was taken from a normal population so parametric methods for hypothesis testing are appropriate."
   ]
  },
  {
   "cell_type": "markdown",
   "metadata": {},
   "source": [
    "### Hypothesis testing\n",
    "Given the small number of guesses (N<30) and the assummption of normality, the one sample t-test can be used to test the null hypothesis that the crowd correctly guessed the actual number of almonds in the jar. The alternative hypothesis is that the crowd did not guess the actual number.\n",
    "First, we need to calculate the critical values. We can reject the null hypothesis if our test statistic is greater than or less than the critical values."
   ]
  },
  {
   "cell_type": "code",
   "execution_count": 51,
   "metadata": {},
   "outputs": [
    {
     "data": {
      "text/plain": [
       "-2.0595385527532946"
      ]
     },
     "execution_count": 51,
     "metadata": {},
     "output_type": "execute_result"
    }
   ],
   "source": [
    "#lower limit test stat\n",
    "t.ppf(q=0.025, df=len(x_f-1))"
   ]
  },
  {
   "cell_type": "code",
   "execution_count": 52,
   "metadata": {},
   "outputs": [
    {
     "data": {
      "text/plain": [
       "2.059538552753294"
      ]
     },
     "execution_count": 52,
     "metadata": {},
     "output_type": "execute_result"
    }
   ],
   "source": [
    "#upper limit test stat\n",
    "t.ppf(q=0.975, df=len(x_f-1))"
   ]
  },
  {
   "cell_type": "code",
   "execution_count": 32,
   "metadata": {},
   "outputs": [
    {
     "data": {
      "text/plain": [
       "Ttest_1sampResult(statistic=1.3073712930615178, pvalue=0.20347359183227254)"
      ]
     },
     "execution_count": 32,
     "metadata": {},
     "output_type": "execute_result"
    }
   ],
   "source": [
    "ttest_1samp(x_f, 212) # Return t-statistic and p-value"
   ]
  },
  {
   "cell_type": "markdown",
   "metadata": {},
   "source": [
    "Based on the test statistic and *p*-value we fail reject the null hypothesis that the crowd guessed the correct amount of almonds in the jar and can say that the crowds guess was not significantly different than the actual amount of almonds in the jar."
   ]
  },
  {
   "cell_type": "markdown",
   "metadata": {},
   "source": [
    "### Conclusions\n",
    "Based on the results of the normality tests and the one-sample, two-sided Students t-test, **we can conclude that the crowds guess is not significantly different from the actual amount.**\n",
    "Therefore this experiment did provide evidence that [Law of Large Numbers](https://en.wikipedia.org/wiki/Law_of_large_numbers), was at work here, even with the paltry sample size; that's pretty cool. \n",
    "\n",
    "However, just because a result is statistically signficant, it doesnt mean its practically significant (theres a whole field of stats that handles that, but I won't delve into here). *For example, Elaine was able to guess within one almond of the correct amount, whereas the crowd's mean difference was 15 almonds, so we can't really say the crowd was any wiser than an individual here. This might change if we had 100 or 1000 guesses.*\n",
    "No experiment is perfect, and often times there are many sources of bias. Lucky for us they dont seem to have played a large role this time.  \n",
    "I've listed a few sources of bias for your consideration. Thanks again for participating and please reach out if you have any questions or would like to know more."
   ]
  },
  {
   "cell_type": "markdown",
   "metadata": {},
   "source": [
    "#### Potential sources of bias\n",
    "\n",
    "* Non-independence of measurements (participant collusion!)\n",
    "* Jar shape (tapered neck)\n",
    "* Location (DES, coffee/microwave nook vs. an entry way)\n",
    "* Volunteer participation\n",
    "* Variable almond size and shape\n",
    "* Measurement technique (random guess vs counting a layer and extrapolating)\n",
    "* (Hidden) Tissue under the lid\n",
    "* More?\n"
   ]
  }
 ],
 "metadata": {
  "kernelspec": {
   "display_name": "Python 3",
   "language": "python",
   "name": "python3"
  },
  "language_info": {
   "codemirror_mode": {
    "name": "ipython",
    "version": 3
   },
   "file_extension": ".py",
   "mimetype": "text/x-python",
   "name": "python",
   "nbconvert_exporter": "python",
   "pygments_lexer": "ipython3",
   "version": "3.6.4"
  }
 },
 "nbformat": 4,
 "nbformat_minor": 2
}
